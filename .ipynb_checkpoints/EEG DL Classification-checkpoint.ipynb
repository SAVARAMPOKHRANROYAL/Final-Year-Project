{
 "cells": [
  {
   "cell_type": "code",
   "execution_count": null,
   "id": "9c4a3bc5",
   "metadata": {},
   "outputs": [],
   "source": [
    "from glob import glob\n",
    "import os\n",
    "import mne\n",
    "import numpy as np\n",
    "import matplotlib.pyplot as plt\n",
    "import pandas as pd"
   ]
  },
  {
   "cell_type": "code",
   "execution_count": null,
   "id": "2b11214d",
   "metadata": {},
   "outputs": [],
   "source": [
    "#read all file\n",
    "all_files_path=glob('dataverse_files/*.edf')"
   ]
  },
  {
   "cell_type": "code",
   "execution_count": null,
   "id": "3126e54c",
   "metadata": {},
   "outputs": [],
   "source": [
    "all_files_path[0]"
   ]
  },
  {
   "cell_type": "code",
   "execution_count": null,
   "id": "7bd827d0",
   "metadata": {},
   "outputs": [],
   "source": [
    "healthy_file_path=[i for i in all_files_path if  'h' in i.split('\\\\')[1]]\n",
    "patient_file_path=[i for i in all_files_path if  's' in i.split('\\\\')[1]]"
   ]
  },
  {
   "cell_type": "code",
   "execution_count": null,
   "id": "1d84e167",
   "metadata": {},
   "outputs": [],
   "source": [
    "def read_data(file_path):\n",
    "    datax=mne.io.read_raw_edf(file_path,preload=True)\n",
    "    datax.set_eeg_reference()\n",
    "    datax.filter(l_freq=1,h_freq=45)\n",
    "    epochs=mne.make_fixed_length_epochs(datax,duration=25,overlap=0)\n",
    "    epochs=epochs.get_data()\n",
    "    return epochs #trials,channel,length"
   ]
  },
  {
   "cell_type": "code",
   "execution_count": null,
   "id": "e66a89a0",
   "metadata": {},
   "outputs": [],
   "source": [
    "print(healthy_file_path[0])"
   ]
  },
  {
   "cell_type": "code",
   "execution_count": null,
   "id": "b1352819",
   "metadata": {},
   "outputs": [],
   "source": [
    "data=read_data(healthy_file_path[0])"
   ]
  },
  {
   "cell_type": "code",
   "execution_count": null,
   "id": "d0fe18b0",
   "metadata": {},
   "outputs": [],
   "source": [
    "print(data)"
   ]
  },
  {
   "cell_type": "code",
   "execution_count": null,
   "id": "a48348ea",
   "metadata": {},
   "outputs": [],
   "source": [
    "data.shape"
   ]
  },
  {
   "cell_type": "code",
   "execution_count": null,
   "id": "e6aea13c",
   "metadata": {},
   "outputs": [],
   "source": [
    "control_epochs_array=[read_data(subject) for subject in healthy_file_path]\n",
    "patients_epochs_array=[read_data(subject) for subject in patient_file_path]"
   ]
  },
  {
   "cell_type": "code",
   "execution_count": null,
   "id": "1110efbc",
   "metadata": {},
   "outputs": [],
   "source": [
    "control_epochs_labels=[len(i)*[0] for i in control_epochs_array]\n",
    "patients_epochs_labels=[len(i)*[1] for i in patients_epochs_array]\n",
    "print(len(control_epochs_labels),len(patients_epochs_labels))"
   ]
  },
  {
   "cell_type": "code",
   "execution_count": null,
   "id": "f4993102",
   "metadata": {},
   "outputs": [],
   "source": [
    "data_list=control_epochs_array+patients_epochs_array\n",
    "label_list=control_epochs_labels+patients_epochs_labels\n",
    "print(len(data_list),len(label_list))"
   ]
  },
  {
   "cell_type": "code",
   "execution_count": null,
   "id": "4ea68f45",
   "metadata": {},
   "outputs": [],
   "source": [
    "groups_list=[[i]*len(j) for i, j in enumerate(data_list)]"
   ]
  },
  {
   "cell_type": "code",
   "execution_count": null,
   "id": "b6f64fbb",
   "metadata": {},
   "outputs": [],
   "source": [
    "data_array=np.vstack(data_list)\n",
    "label_array=np.hstack(label_list)\n",
    "group_array=np.hstack(groups_list)\n",
    "data_array=np.moveaxis(data_array,1,2)\n",
    "\n",
    "print(data_array.shape,label_array.shape,group_array.shape)"
   ]
  },
  {
   "cell_type": "code",
   "execution_count": null,
   "id": "43d462a7",
   "metadata": {},
   "outputs": [],
   "source": [
    "from tensorflow.keras.layers import Conv1D,BatchNormalization,LeakyReLU,MaxPool1D,\\\n",
    "GlobalAveragePooling1D,Dense,Dropout,AveragePooling1D\n",
    "from tensorflow.keras.models import Sequential\n",
    "from tensorflow.keras.backend import clear_session\n",
    "def cnnmodel():\n",
    "    clear_session()\n",
    "    model=Sequential()\n",
    "    model.add(Conv1D(filters=5,kernel_size=3,strides=1,input_shape=(6250,19)))#1\n",
    "    model.add(BatchNormalization())\n",
    "    model.add(LeakyReLU())\n",
    "    model.add(MaxPool1D(pool_size=2,strides=2))#2\n",
    "    model.add(Conv1D(filters=5,kernel_size=3,strides=1))#3\n",
    "    model.add(LeakyReLU())\n",
    "    model.add(MaxPool1D(pool_size=2,strides=2))#4\n",
    "    model.add(Dropout(0.5))\n",
    "    model.add(Conv1D(filters=5,kernel_size=3,strides=1))#5\n",
    "    model.add(LeakyReLU())\n",
    "    model.add(AveragePooling1D(pool_size=2,strides=2))#6\n",
    "    model.add(Dropout(0.5))\n",
    "    model.add(Conv1D(filters=5,kernel_size=3,strides=1))#7\n",
    "    model.add(LeakyReLU())\n",
    "    model.add(AveragePooling1D(pool_size=2,strides=2))#8\n",
    "    model.add(Conv1D(filters=5,kernel_size=3,strides=1))#9\n",
    "    model.add(LeakyReLU())\n",
    "    model.add(GlobalAveragePooling1D())#10\n",
    "    model.add(Dense(1,activation='sigmoid'))#11\n",
    "    \n",
    "    model.compile('adam',loss='binary_crossentropy',metrics=['accuracy'])\n",
    "    return model\n",
    "\n",
    "model=cnnmodel()\n",
    "model.summary()"
   ]
  },
  {
   "cell_type": "code",
   "execution_count": null,
   "id": "67b7474d",
   "metadata": {},
   "outputs": [],
   "source": [
    "from sklearn.model_selection import GroupKFold,LeaveOneGroupOut\n",
    "from sklearn.preprocessing import StandardScaler\n",
    "gkf=GroupKFold()"
   ]
  },
  {
   "cell_type": "code",
   "execution_count": null,
   "id": "9f03d9a5",
   "metadata": {
    "scrolled": true
   },
   "outputs": [],
   "source": [
    "accuracy=[]\n",
    "for train_index, val_index in gkf.split(data_array, label_array, groups=group_array):\n",
    "    train_features,train_labels=data_array[train_index],label_array[train_index]\n",
    "    val_features,val_labels=data_array[val_index],label_array[val_index]\n",
    "    scaler=StandardScaler()\n",
    "    train_features = scaler.fit_transform(train_features.reshape(-1, train_features.shape[-1])).reshape(train_features.shape)\n",
    "    val_features = scaler.transform(val_features.reshape(-1, val_features.shape[-1])).reshape(val_features.shape)\n",
    "    model=cnnmodel()\n",
    "    model.fit(train_features,train_labels,epochs=50,batch_size=128,validation_data=(val_features,val_labels))\n",
    "    accuracy.append(model.evaluate(val_features,val_labels)[1])\n"
   ]
  },
  {
   "cell_type": "code",
   "execution_count": null,
   "id": "9c43d34e",
   "metadata": {},
   "outputs": [],
   "source": [
    "np.mean(accuracy)"
   ]
  },
  {
   "cell_type": "code",
   "execution_count": null,
   "id": "690d4388",
   "metadata": {},
   "outputs": [],
   "source": [
    "from tensorflow.keras.models import Sequential\n",
    "from tensorflow.keras.layers import Dense, Flatten\n",
    "\n",
    "def mlp_model(input_shape):\n",
    "    model = Sequential([\n",
    "        Flatten(input_shape=input_shape),\n",
    "        Dense(128, activation='relu'),\n",
    "        Dense(64, activation='relu'),\n",
    "        Dense(1, activation='sigmoid')\n",
    "    ])\n",
    "    model.compile(optimizer='adam', loss='binary_crossentropy', metrics=['accuracy'])\n",
    "    return model\n"
   ]
  },
  {
   "cell_type": "code",
   "execution_count": null,
   "id": "961945bd",
   "metadata": {},
   "outputs": [],
   "source": [
    "accuracy = []\n",
    "for train_index, val_index in gkf.split(data_array, label_array, groups=group_array):\n",
    "    train_features, train_labels = data_array[train_index], label_array[train_index]\n",
    "    val_features, val_labels = data_array[val_index], label_array[val_index]\n",
    "    \n",
    "    scaler = StandardScaler()\n",
    "    train_features = scaler.fit_transform(train_features.reshape(-1, train_features.shape[-1])).reshape(train_features.shape)\n",
    "    val_features = scaler.transform(val_features.reshape(-1, val_features.shape[-1])).reshape(val_features.shape)\n",
    "    \n",
    "    model = mlp_model(input_shape=train_features.shape[1:])\n",
    "    model.fit(train_features, train_labels, epochs=50, batch_size=128, validation_data=(val_features, val_labels))\n",
    "    accuracy.append(model.evaluate(val_features, val_labels)[1])"
   ]
  },
  {
   "cell_type": "code",
   "execution_count": null,
   "id": "3784984b",
   "metadata": {},
   "outputs": [],
   "source": [
    "np.mean(accuracy)"
   ]
  },
  {
   "cell_type": "code",
   "execution_count": null,
   "id": "8793d435",
   "metadata": {},
   "outputs": [],
   "source": [
    "from sklearn.ensemble import RandomForestClassifier\n",
    "\n",
    "def rf_model():\n",
    "    model = RandomForestClassifier(n_estimators=100)\n",
    "    return model"
   ]
  },
  {
   "cell_type": "code",
   "execution_count": null,
   "id": "efcaa2a1",
   "metadata": {},
   "outputs": [],
   "source": [
    "accuracy = []\n",
    "for train_index, val_index in gkf.split(data_array, label_array, groups=group_array):\n",
    "    train_features, train_labels = data_array[train_index], label_array[train_index]\n",
    "    val_features, val_labels = data_array[val_index], label_array[val_index]\n",
    "    \n",
    "    scaler = StandardScaler()\n",
    "    train_features = scaler.fit_transform(train_features.reshape(-1, train_features.shape[-1])).reshape(train_features.shape)\n",
    "    val_features = scaler.transform(val_features.reshape(-1, val_features.shape[-1])).reshape(val_features.shape)\n",
    "    \n",
    "    model = mlp_model(input_shape=train_features.shape[1:])\n",
    "    model.fit(train_features, train_labels, epochs=50, batch_size=128, validation_data=(val_features, val_labels))\n",
    "    accuracy.append(model.evaluate(val_features, val_labels)[1])"
   ]
  },
  {
   "cell_type": "code",
   "execution_count": null,
   "id": "1d37e90e",
   "metadata": {},
   "outputs": [],
   "source": [
    "np.mean(accuracy)"
   ]
  }
 ],
 "metadata": {
  "kernelspec": {
   "display_name": "Python 3 (ipykernel)",
   "language": "python",
   "name": "python3"
  },
  "language_info": {
   "codemirror_mode": {
    "name": "ipython",
    "version": 3
   },
   "file_extension": ".py",
   "mimetype": "text/x-python",
   "name": "python",
   "nbconvert_exporter": "python",
   "pygments_lexer": "ipython3",
   "version": "3.9.13"
  }
 },
 "nbformat": 4,
 "nbformat_minor": 5
}
